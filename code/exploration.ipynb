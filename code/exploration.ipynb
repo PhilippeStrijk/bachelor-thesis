{
 "cells": [
  {
   "cell_type": "code",
   "execution_count": 15,
   "metadata": {},
   "outputs": [
    {
     "name": "stdout",
     "output_type": "stream",
     "text": [
      "+---+------+----+-----------+----------+---------+---------+---------+---------+---------+---------+\n",
      "|_c0|Symbol|Name|     Sector|      Date|     Open|     High|      Low|    Close|Adj Close|   Volume|\n",
      "+---+------+----+-----------+----------+---------+---------+---------+---------+---------+---------+\n",
      "|  0|   MMM|  3M|Industrials|2009-01-26|53.540001|54.549999|52.950001|53.560001|35.854778|5185200.0|\n",
      "|  1|   MMM|  3M|Industrials|2009-01-27|    53.75|54.509998|    53.23|53.990002|36.142635|4722700.0|\n",
      "|  2|   MMM|  3M|Industrials|2009-01-28|54.450001|55.849998|53.799999|55.419998|37.099926|6105400.0|\n",
      "|  3|   MMM|  3M|Industrials|2009-01-29|55.630001|57.709999|55.029999|56.549999|37.856373|8154300.0|\n",
      "|  4|   MMM|  3M|Industrials|2009-01-30|    56.59|56.810001|53.290001|53.790001|36.008739|7620300.0|\n",
      "|  5|   MMM|  3M|Industrials|2009-02-02|52.790001|    53.02|    50.16|50.619999|33.886658|9052900.0|\n",
      "|  6|   MMM|  3M|Industrials|2009-02-03|    51.25|    51.82|50.299999|51.639999|34.569477|7715700.0|\n",
      "|  7|   MMM|  3M|Industrials|2009-02-04|    51.91|52.450001|50.610001|    50.84|34.033928|4722400.0|\n",
      "|  8|   MMM|  3M|Industrials|2009-02-05|50.549999|51.830002|50.009998|51.549999|34.509228|5291000.0|\n",
      "|  9|   MMM|  3M|Industrials|2009-02-06|51.630001|52.919998|51.400002|52.389999|35.071545|5305900.0|\n",
      "| 10|   MMM|  3M|Industrials|2009-02-09|52.459999|    54.66|52.299999|54.110001|36.222961|7146900.0|\n",
      "| 11|   MMM|  3M|Industrials|2009-02-10|53.860001|54.110001|50.779999|51.080002|34.194592|6909600.0|\n",
      "| 12|   MMM|  3M|Industrials|2009-02-11|51.759998|52.189999|50.759998|51.290001|34.335159|5847600.0|\n",
      "| 13|   MMM|  3M|Industrials|2009-02-12|50.450001|50.560001|48.639999|49.970001|33.451515|8495400.0|\n",
      "| 14|   MMM|  3M|Industrials|2009-02-13|50.599998|50.599998|    49.25|49.419998|33.083324|4810600.0|\n",
      "| 15|   MMM|  3M|Industrials|2009-02-17|    48.93|    48.93|47.200001|47.419998|31.744469|8653800.0|\n",
      "| 16|   MMM|  3M|Industrials|2009-02-18|47.259998|47.580002|46.610001|47.139999|31.900126|4963800.0|\n",
      "| 17|   MMM|  3M|Industrials|2009-02-19|46.580002|48.040001|46.580002|    47.07|31.852741|5554600.0|\n",
      "| 18|   MMM|  3M|Industrials|2009-02-20|    46.84|    47.93|46.439999|    47.25| 31.97455|8729300.0|\n",
      "| 19|   MMM|  3M|Industrials|2009-02-23|47.560001|    47.59|45.360001|    45.41|30.729399|6776500.0|\n",
      "+---+------+----+-----------+----------+---------+---------+---------+---------+---------+---------+\n",
      "only showing top 20 rows\n",
      "\n"
     ]
    }
   ],
   "source": [
    "# Import the required modules \n",
    "from pyspark.sql import SparkSession\n",
    "from pyspark.sql import DataFrameReader\n",
    "\n",
    "# Create a spark session \n",
    "spark = SparkSession.builder.appName('csv_reader').getOrCreate()\n",
    "\n",
    "# Create a dataframe reader\n",
    "df_reader = DataFrameReader(spark)\n",
    "\n",
    "# Read the csv file into a spark dataframe\n",
    "df = df_reader.csv('data/s&p500_historic_data.csv', header=True)\n",
    "\n",
    "# Print the dataframe\n",
    "df.show()"
   ]
  },
  {
   "cell_type": "code",
   "execution_count": 16,
   "metadata": {},
   "outputs": [
    {
     "data": {
      "text/plain": [
       "1637519"
      ]
     },
     "execution_count": 16,
     "metadata": {},
     "output_type": "execute_result"
    }
   ],
   "source": [
    "df.count()"
   ]
  },
  {
   "cell_type": "code",
   "execution_count": 17,
   "metadata": {},
   "outputs": [
    {
     "name": "stdout",
     "output_type": "stream",
     "text": [
      "+---+------+----+-----------+----------+---------+---------+---------+---------+---------+---------+\n",
      "|_c0|Symbol|Name|     Sector|      Date|     Open|     High|      Low|    Close|Adj Close|   Volume|\n",
      "+---+------+----+-----------+----------+---------+---------+---------+---------+---------+---------+\n",
      "|  0|   MMM|  3M|Industrials|2009-01-26|53.540001|54.549999|52.950001|53.560001|35.854778|5185200.0|\n",
      "|  1|   MMM|  3M|Industrials|2009-01-27|    53.75|54.509998|    53.23|53.990002|36.142635|4722700.0|\n",
      "|  2|   MMM|  3M|Industrials|2009-01-28|54.450001|55.849998|53.799999|55.419998|37.099926|6105400.0|\n",
      "|  3|   MMM|  3M|Industrials|2009-01-29|55.630001|57.709999|55.029999|56.549999|37.856373|8154300.0|\n",
      "|  4|   MMM|  3M|Industrials|2009-01-30|    56.59|56.810001|53.290001|53.790001|36.008739|7620300.0|\n",
      "|  5|   MMM|  3M|Industrials|2009-02-02|52.790001|    53.02|    50.16|50.619999|33.886658|9052900.0|\n",
      "|  6|   MMM|  3M|Industrials|2009-02-03|    51.25|    51.82|50.299999|51.639999|34.569477|7715700.0|\n",
      "|  7|   MMM|  3M|Industrials|2009-02-04|    51.91|52.450001|50.610001|    50.84|34.033928|4722400.0|\n",
      "|  8|   MMM|  3M|Industrials|2009-02-05|50.549999|51.830002|50.009998|51.549999|34.509228|5291000.0|\n",
      "|  9|   MMM|  3M|Industrials|2009-02-06|51.630001|52.919998|51.400002|52.389999|35.071545|5305900.0|\n",
      "| 10|   MMM|  3M|Industrials|2009-02-09|52.459999|    54.66|52.299999|54.110001|36.222961|7146900.0|\n",
      "| 11|   MMM|  3M|Industrials|2009-02-10|53.860001|54.110001|50.779999|51.080002|34.194592|6909600.0|\n",
      "| 12|   MMM|  3M|Industrials|2009-02-11|51.759998|52.189999|50.759998|51.290001|34.335159|5847600.0|\n",
      "| 13|   MMM|  3M|Industrials|2009-02-12|50.450001|50.560001|48.639999|49.970001|33.451515|8495400.0|\n",
      "| 14|   MMM|  3M|Industrials|2009-02-13|50.599998|50.599998|    49.25|49.419998|33.083324|4810600.0|\n",
      "| 15|   MMM|  3M|Industrials|2009-02-17|    48.93|    48.93|47.200001|47.419998|31.744469|8653800.0|\n",
      "| 16|   MMM|  3M|Industrials|2009-02-18|47.259998|47.580002|46.610001|47.139999|31.900126|4963800.0|\n",
      "| 17|   MMM|  3M|Industrials|2009-02-19|46.580002|48.040001|46.580002|    47.07|31.852741|5554600.0|\n",
      "| 18|   MMM|  3M|Industrials|2009-02-20|    46.84|    47.93|46.439999|    47.25| 31.97455|8729300.0|\n",
      "| 19|   MMM|  3M|Industrials|2009-02-23|47.560001|    47.59|45.360001|    45.41|30.729399|6776500.0|\n",
      "+---+------+----+-----------+----------+---------+---------+---------+---------+---------+---------+\n",
      "only showing top 20 rows\n",
      "\n"
     ]
    }
   ],
   "source": [
    "df.filter(df['Symbol'] == 'MMM').select('*').show()"
   ]
  },
  {
   "cell_type": "code",
   "execution_count": 18,
   "metadata": {},
   "outputs": [
    {
     "ename": "AnalysisException",
     "evalue": "Column 'Datetime' does not exist. Did you mean one of the following? [Date, Name, Volume, Close, High, Open, Sector, Adj Close, Low, Symbol, _c0];\n'Project [Close#203, 'Datetime]\n+- Relation [_c0#195,Symbol#196,Name#197,Sector#198,Date#199,Open#200,High#201,Low#202,Close#203,Adj Close#204,Volume#205] csv\n",
     "output_type": "error",
     "traceback": [
      "\u001b[1;31m---------------------------------------------------------------------------\u001b[0m",
      "\u001b[1;31mAnalysisException\u001b[0m                         Traceback (most recent call last)",
      "Cell \u001b[1;32mIn [18], line 1\u001b[0m\n\u001b[1;32m----> 1\u001b[0m df\u001b[39m.\u001b[39;49mselect([\u001b[39m'\u001b[39;49m\u001b[39mClose\u001b[39;49m\u001b[39m'\u001b[39;49m,\u001b[39m'\u001b[39;49m\u001b[39mDatetime\u001b[39;49m\u001b[39m'\u001b[39;49m])\u001b[39m.\u001b[39mtoPandas()\u001b[39m.\u001b[39mplot(x\u001b[39m=\u001b[39m\u001b[39m'\u001b[39m\u001b[39mDatetime\u001b[39m\u001b[39m'\u001b[39m, y\u001b[39m=\u001b[39m\u001b[39m'\u001b[39m\u001b[39mClose\u001b[39m\u001b[39m'\u001b[39m)\n",
      "File \u001b[1;32mc:\\Users\\Phili\\AppData\\Local\\Programs\\Python\\Python310\\lib\\site-packages\\pyspark\\sql\\dataframe.py:2023\u001b[0m, in \u001b[0;36mDataFrame.select\u001b[1;34m(self, *cols)\u001b[0m\n\u001b[0;32m   2002\u001b[0m \u001b[39mdef\u001b[39;00m \u001b[39mselect\u001b[39m(\u001b[39mself\u001b[39m, \u001b[39m*\u001b[39mcols: \u001b[39m\"\u001b[39m\u001b[39mColumnOrName\u001b[39m\u001b[39m\"\u001b[39m) \u001b[39m-\u001b[39m\u001b[39m>\u001b[39m \u001b[39m\"\u001b[39m\u001b[39mDataFrame\u001b[39m\u001b[39m\"\u001b[39m:  \u001b[39m# type: ignore[misc]\u001b[39;00m\n\u001b[0;32m   2003\u001b[0m     \u001b[39m\"\"\"Projects a set of expressions and returns a new :class:`DataFrame`.\u001b[39;00m\n\u001b[0;32m   2004\u001b[0m \n\u001b[0;32m   2005\u001b[0m \u001b[39m    .. versionadded:: 1.3.0\u001b[39;00m\n\u001b[1;32m   (...)\u001b[0m\n\u001b[0;32m   2021\u001b[0m \u001b[39m    [Row(name='Alice', age=12), Row(name='Bob', age=15)]\u001b[39;00m\n\u001b[0;32m   2022\u001b[0m \u001b[39m    \"\"\"\u001b[39;00m\n\u001b[1;32m-> 2023\u001b[0m     jdf \u001b[39m=\u001b[39m \u001b[39mself\u001b[39;49m\u001b[39m.\u001b[39;49m_jdf\u001b[39m.\u001b[39;49mselect(\u001b[39mself\u001b[39;49m\u001b[39m.\u001b[39;49m_jcols(\u001b[39m*\u001b[39;49mcols))\n\u001b[0;32m   2024\u001b[0m     \u001b[39mreturn\u001b[39;00m DataFrame(jdf, \u001b[39mself\u001b[39m\u001b[39m.\u001b[39msparkSession)\n",
      "File \u001b[1;32mc:\\Users\\Phili\\AppData\\Local\\Programs\\Python\\Python310\\lib\\site-packages\\py4j\\java_gateway.py:1321\u001b[0m, in \u001b[0;36mJavaMember.__call__\u001b[1;34m(self, *args)\u001b[0m\n\u001b[0;32m   1315\u001b[0m command \u001b[39m=\u001b[39m proto\u001b[39m.\u001b[39mCALL_COMMAND_NAME \u001b[39m+\u001b[39m\\\n\u001b[0;32m   1316\u001b[0m     \u001b[39mself\u001b[39m\u001b[39m.\u001b[39mcommand_header \u001b[39m+\u001b[39m\\\n\u001b[0;32m   1317\u001b[0m     args_command \u001b[39m+\u001b[39m\\\n\u001b[0;32m   1318\u001b[0m     proto\u001b[39m.\u001b[39mEND_COMMAND_PART\n\u001b[0;32m   1320\u001b[0m answer \u001b[39m=\u001b[39m \u001b[39mself\u001b[39m\u001b[39m.\u001b[39mgateway_client\u001b[39m.\u001b[39msend_command(command)\n\u001b[1;32m-> 1321\u001b[0m return_value \u001b[39m=\u001b[39m get_return_value(\n\u001b[0;32m   1322\u001b[0m     answer, \u001b[39mself\u001b[39;49m\u001b[39m.\u001b[39;49mgateway_client, \u001b[39mself\u001b[39;49m\u001b[39m.\u001b[39;49mtarget_id, \u001b[39mself\u001b[39;49m\u001b[39m.\u001b[39;49mname)\n\u001b[0;32m   1324\u001b[0m \u001b[39mfor\u001b[39;00m temp_arg \u001b[39min\u001b[39;00m temp_args:\n\u001b[0;32m   1325\u001b[0m     temp_arg\u001b[39m.\u001b[39m_detach()\n",
      "File \u001b[1;32mc:\\Users\\Phili\\AppData\\Local\\Programs\\Python\\Python310\\lib\\site-packages\\pyspark\\sql\\utils.py:196\u001b[0m, in \u001b[0;36mcapture_sql_exception.<locals>.deco\u001b[1;34m(*a, **kw)\u001b[0m\n\u001b[0;32m    192\u001b[0m converted \u001b[39m=\u001b[39m convert_exception(e\u001b[39m.\u001b[39mjava_exception)\n\u001b[0;32m    193\u001b[0m \u001b[39mif\u001b[39;00m \u001b[39mnot\u001b[39;00m \u001b[39misinstance\u001b[39m(converted, UnknownException):\n\u001b[0;32m    194\u001b[0m     \u001b[39m# Hide where the exception came from that shows a non-Pythonic\u001b[39;00m\n\u001b[0;32m    195\u001b[0m     \u001b[39m# JVM exception message.\u001b[39;00m\n\u001b[1;32m--> 196\u001b[0m     \u001b[39mraise\u001b[39;00m converted \u001b[39mfrom\u001b[39;00m \u001b[39mNone\u001b[39m\n\u001b[0;32m    197\u001b[0m \u001b[39melse\u001b[39;00m:\n\u001b[0;32m    198\u001b[0m     \u001b[39mraise\u001b[39;00m\n",
      "\u001b[1;31mAnalysisException\u001b[0m: Column 'Datetime' does not exist. Did you mean one of the following? [Date, Name, Volume, Close, High, Open, Sector, Adj Close, Low, Symbol, _c0];\n'Project [Close#203, 'Datetime]\n+- Relation [_c0#195,Symbol#196,Name#197,Sector#198,Date#199,Open#200,High#201,Low#202,Close#203,Adj Close#204,Volume#205] csv\n"
     ]
    }
   ],
   "source": []
  }
 ],
 "metadata": {
  "kernelspec": {
   "display_name": "Python 3",
   "language": "python",
   "name": "python3"
  },
  "language_info": {
   "codemirror_mode": {
    "name": "ipython",
    "version": 3
   },
   "file_extension": ".py",
   "mimetype": "text/x-python",
   "name": "python",
   "nbconvert_exporter": "python",
   "pygments_lexer": "ipython3",
   "version": "3.10.6"
  },
  "orig_nbformat": 4,
  "vscode": {
   "interpreter": {
    "hash": "54cace201653003fcb02e1f93438c9ffea023d8fac5c35d2e5628ad09084c340"
   }
  }
 },
 "nbformat": 4,
 "nbformat_minor": 2
}
